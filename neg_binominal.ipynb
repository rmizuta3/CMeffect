{
 "cells": [
  {
   "cell_type": "code",
   "execution_count": 61,
   "metadata": {},
   "outputs": [],
   "source": [
    "import pandas as pd\n",
    "import numpy as np\n",
    "import matplotlib.pyplot as plt\n",
    "import os\n",
    "import seaborn as sns\n",
    "import pystan\n",
    "import math\n",
    "pd.set_option(\"display.max_rows\", 101)\n",
    "pd.set_option(\"display.max_columns\", 101)\n",
    "%matplotlib inline"
   ]
  },
  {
   "cell_type": "code",
   "execution_count": 62,
   "metadata": {},
   "outputs": [],
   "source": [
    "df=pd.read_csv(\"../input/q_data_x.csv\")"
   ]
  },
  {
   "cell_type": "code",
   "execution_count": 63,
   "metadata": {},
   "outputs": [],
   "source": [
    "df[\"TVwatch_day\"]=df[\"TVwatch_day\"]/10000"
   ]
  },
  {
   "cell_type": "code",
   "execution_count": 64,
   "metadata": {
    "scrolled": true
   },
   "outputs": [],
   "source": [
    "#スケール＋切り上げ\n",
    "df[\"gamesecond\"]=[math.ceil(i/10000) for i in df[\"gamesecond\"]]"
   ]
  },
  {
   "cell_type": "code",
   "execution_count": 65,
   "metadata": {},
   "outputs": [
    {
     "data": {
      "text/plain": [
       "<matplotlib.axes._subplots.AxesSubplot at 0x1a2f1ba588>"
      ]
     },
     "execution_count": 65,
     "metadata": {},
     "output_type": "execute_result"
    },
    {
     "data": {
      "image/png": "[encoded data removed]",
      "text/plain": [
       "<Figure size 432x288 with 1 Axes>"
      ]
     },
     "metadata": {
      "needs_background": "light"
     },
     "output_type": "display_data"
    }
   ],
   "source": [
    "df[\"gamesecond\"].hist(range=(1,30))"
   ]
  },
  {
   "cell_type": "code",
   "execution_count": 66,
   "metadata": {},
   "outputs": [],
   "source": [
    "X=df[['cm_dummy','T','F1', 'F2', 'F3', 'M1', 'M2', 'M3', 'TVwatch_day',\"child_dummy\"]]\n",
    "#X=df[['cm_dummy','T','F1', 'F2', 'F3', 'M1', 'M2', 'M3']]"
   ]
  },
  {
   "cell_type": "code",
   "execution_count": 67,
   "metadata": {},
   "outputs": [
    {
     "data": {
      "text/plain": [
       "'別ver(たぶん同じ動作)\\nif (Y[n] == 0) {\\n      increment_log_prob(log_sum_exp(\\n        bernoulli_log(0 , q[n]),\\n        bernoulli_log(1 , q[n]) + neg_binomial_2_log(0 , alpha,beta)\\n        ));\\n    } else {\\n      increment_log_prob(bernoulli_log(1 , q[n]) + neg_binomial_2_log(Y[n] , alpha,beta));\\n'"
      ]
     },
     "execution_count": 67,
     "metadata": {},
     "output_type": "execute_result"
    }
   ],
   "source": [
    "model=\"\"\"\n",
    "data {\n",
    "  int N;\n",
    "  int D;\n",
    "  int<lower=0> Y[N];\n",
    "  matrix[N,D] X;\n",
    "}\n",
    "\n",
    "parameters {\n",
    "  vector[D] b1;\n",
    "  real<lower=0> beta;\n",
    "}\n",
    "\n",
    "transformed parameters {\n",
    "  vector[N] alpha_x;\n",
    "  vector[N] alpha;\n",
    "  \n",
    "  alpha_x = X*b1;\n",
    "  for (n in 1:N){\n",
    "    alpha[n] = exp(alpha_x[n]);\n",
    "    }\n",
    "}\n",
    "\n",
    "model {\n",
    "  for (n in 1:N)\n",
    "    Y[n] ~ neg_binomial_2(alpha[n], beta);\n",
    "}\n",
    "\"\"\""
   ]
  },
  {
   "cell_type": "code",
   "execution_count": 68,
   "metadata": {},
   "outputs": [],
   "source": [
    "data={'N': X.shape[0], 'D':X.shape[1] ,'Y':df[\"gamesecond\"].values, 'X':np.array(X)}"
   ]
  },
  {
   "cell_type": "code",
   "execution_count": 69,
   "metadata": {
    "scrolled": false
   },
   "outputs": [
    {
     "name": "stderr",
     "output_type": "stream",
     "text": [
      "WARNING:pystan:DeprecationWarning: pystan.stan was deprecated in version 2.17 and will be removed in version 3.0. Compile and use a Stan program in separate steps.\n",
      "INFO:pystan:COMPILING THE C++ CODE FOR MODEL anon_model_efc1185b6d99287b08f521e9025bbeef NOW.\n",
      "WARNING:pystan:Maximum (flat) parameter count (1000) exceeded: skipping diagnostic tests for n_eff and Rhat.\n",
      "To run all diagnostics call pystan.check_hmc_diagnostics(fit)\n"
     ]
    },
    {
     "name": "stdout",
     "output_type": "stream",
     "text": [
      "CPU times: user 2.59 s, sys: 15.6 s, total: 18.2 s\n",
      "Wall time: 3min 6s\n"
     ]
    }
   ],
   "source": [
    "%time fit = pystan.stan(model_code=model, data=data, iter=1000, chains=3)"
   ]
  },
  {
   "cell_type": "code",
   "execution_count": 70,
   "metadata": {},
   "outputs": [
    {
     "name": "stderr",
     "output_type": "stream",
     "text": [
      "WARNING:pystan:Truncated summary with the 'fit.__repr__' method. For the full summary use 'print(fit)'\n"
     ]
    },
    {
     "data": {
      "text/plain": [
       "\n",
       "Warning: Shown data is truncated to 100 parameters\n",
       "For the full summary use 'print(fit)'\n",
       "\n",
       "Inference for Stan model: anon_model_efc1185b6d99287b08f521e9025bbeef.\n",
       "3 chains, each with iter=1000; warmup=500; thin=1; \n",
       "post-warmup draws per chain=500, total post-warmup draws=1500.\n",
       "\n",
       "              mean se_mean     sd   2.5%    25%    50%    75%  97.5%  n_eff   Rhat\n",
       "b1[1]       5.0e-3  3.9e-3   0.14  -0.27  -0.08 2.5e-3    0.1   0.27   1219    1.0\n",
       "b1[2]        -0.27    0.01   0.52  -1.16  -0.66   -0.3   0.06   0.79   1626    1.0\n",
       "b1[3]        -2.01  5.1e-3   0.18  -2.37  -2.14  -2.01  -1.89  -1.64   1283    1.0\n",
       "b1[4]         -1.5  6.5e-3    0.2  -1.87  -1.65   -1.5  -1.37  -1.11    963    1.0\n",
       "b1[5]        -1.91  8.7e-3   0.29  -2.48   -2.1  -1.91  -1.71  -1.33   1139   1.01\n",
       "b1[6]        -0.38  3.9e-3   0.16  -0.69  -0.49  -0.38  -0.28  -0.05   1647    1.0\n",
       "b1[7]        -1.01  4.7e-3   0.15   -1.3  -1.11  -1.01   -0.9  -0.74    970    1.0\n",
       "b1[8]        -2.21  5.2e-3   0.17  -2.53  -2.33  -2.21  -2.09  -1.86   1095    1.0\n",
       "b1[9]        -0.04  2.5e-3   0.08  -0.19   -0.1  -0.04   0.02   0.12   1063   1.01\n",
       "b1[10]        0.27  4.3e-3   0.14  -0.02   0.18   0.26   0.36   0.52   1011    1.0\n",
       "beta          0.03  4.2e-5 1.7e-3   0.03   0.03   0.03   0.04   0.04   1688    1.0\n",
       "alpha_x[1]   -0.74  3.4e-3   0.15  -1.02  -0.84  -0.74  -0.65  -0.45   1848    1.0\n",
       "alpha_x[2]   -0.74  3.4e-3   0.15  -1.02  -0.84  -0.74  -0.65  -0.45   1848    1.0\n",
       "alpha_x[3]   -0.38  3.9e-3   0.16  -0.69  -0.49  -0.38  -0.28  -0.05   1646    1.0\n",
       "alpha_x[4]   -0.74  3.4e-3   0.15  -1.02  -0.84  -0.74  -0.65  -0.45   1848    1.0\n",
       "alpha_x[5]   -0.12  4.6e-3   0.18  -0.48  -0.23  -0.12 6.7e-3   0.25   1599    1.0\n",
       "alpha_x[6]   -2.01  5.1e-3   0.18  -2.37  -2.14  -2.01  -1.89  -1.64   1284    1.0\n",
       "alpha_x[7]   -0.27    0.01   0.52  -1.16  -0.66   -0.3   0.06   0.79   1626    1.0\n",
       "alpha_x[8]   -1.91  8.7e-3   0.29  -2.48   -2.1  -1.91  -1.71  -1.33   1140   1.01\n",
       "alpha_x[9]   -0.74  3.4e-3   0.15  -1.02  -0.84  -0.74  -0.65  -0.45   1849    1.0\n",
       "alpha_x[10]  -0.38  3.9e-3   0.16  -0.69  -0.49  -0.38  -0.28  -0.05   1645    1.0\n",
       "alpha_x[11]  -0.74  3.4e-3   0.15  -1.02  -0.84  -0.74  -0.65  -0.45   1849    1.0\n",
       "alpha_x[12]  -0.74  3.4e-3   0.15  -1.02  -0.84  -0.74  -0.65  -0.45   1850    1.0\n",
       "alpha_x[13]  -1.01  4.7e-3   0.15   -1.3  -1.11  -1.01   -0.9  -0.74    970    1.0\n",
       "alpha_x[14]  -0.27    0.01   0.52  -1.16  -0.66   -0.3   0.06   0.79   1626    1.0\n",
       "alpha_x[15]   -1.5  6.5e-3    0.2  -1.87  -1.65   -1.5  -1.37  -1.11    962    1.0\n",
       "alpha_x[16]  -2.21  5.2e-3   0.17  -2.53  -2.33  -2.21  -2.09  -1.86   1097    1.0\n",
       "alpha_x[17]  -1.94  4.7e-3   0.19  -2.33  -2.07  -1.94  -1.81  -1.56   1692    1.0\n",
       "alpha_x[18]  -2.01  5.1e-3   0.18  -2.37  -2.14  -2.01  -1.89  -1.64   1286    1.0\n",
       "alpha_x[19]  -0.12  4.6e-3   0.18  -0.48  -0.23  -0.12 6.5e-3   0.25   1597    1.0\n",
       "alpha_x[20]  -0.74  3.4e-3   0.15  -1.02  -0.84  -0.74  -0.65  -0.45   1851    1.0\n",
       "alpha_x[21]  -0.74  3.4e-3   0.15  -1.02  -0.84  -0.74  -0.65  -0.45   1852    1.0\n",
       "alpha_x[22]  -0.74  3.4e-3   0.15  -1.02  -0.84  -0.74  -0.65  -0.45   1852    1.0\n",
       "alpha_x[23]  -1.75  4.6e-3    0.2  -2.13  -1.88  -1.75  -1.61  -1.36   1961    1.0\n",
       "alpha_x[24]  -0.74  3.4e-3   0.15  -1.02  -0.84  -0.74  -0.65  -0.45   1853    1.0\n",
       "alpha_x[25]  -0.12  4.6e-3   0.18  -0.48  -0.23  -0.12 6.2e-3   0.25   1594    1.0\n",
       "alpha_x[26]  -0.38  3.9e-3   0.16  -0.69  -0.49  -0.38  -0.28  -0.05   1643    1.0\n",
       "alpha_x[27]  -0.38  3.9e-3   0.16  -0.69  -0.49  -0.38  -0.28  -0.05   1643    1.0\n",
       "alpha_x[28]   -1.5  6.4e-3    0.2  -1.87  -1.65   -1.5  -1.37  -1.12    962    1.0\n",
       "alpha_x[29]  -0.74  3.4e-3   0.15  -1.02  -0.84  -0.74  -0.65  -0.45   1855    1.0\n",
       "alpha_x[30]  -2.01  5.1e-3   0.18  -2.37  -2.14  -2.01  -1.89  -1.63   1289    1.0\n",
       "alpha_x[31]  -0.12  4.6e-3   0.18  -0.48  -0.23  -0.12 6.1e-3   0.25   1593    1.0\n",
       "alpha_x[32]   -1.5  6.4e-3    0.2  -1.87  -1.65   -1.5  -1.37  -1.12    962    1.0\n",
       "alpha_x[33]  -1.01  4.7e-3   0.15   -1.3  -1.11  -1.01   -0.9  -0.74    972    1.0\n",
       "alpha_x[34]  -1.01  4.7e-3   0.15   -1.3  -1.11  -1.01   -0.9  -0.74    972    1.0\n",
       "alpha_x[35]  -2.01  5.1e-3   0.18  -2.37  -2.14  -2.01  -1.89  -1.63   1290    1.0\n",
       "alpha_x[36]  -1.24  3.8e-3   0.16  -1.56  -1.35  -1.25  -1.13   -0.9   1833    1.0\n",
       "alpha_x[37]  -0.74  3.4e-3   0.15  -1.02  -0.84  -0.74  -0.65  -0.45   1857    1.0\n",
       "alpha_x[38]  -0.38  3.9e-3   0.16  -0.69  -0.49  -0.38  -0.28  -0.05   1642    1.0\n",
       "alpha_x[39]  -2.01  5.1e-3   0.18  -2.37  -2.14  -2.01  -1.89  -1.63   1291    1.0\n",
       "alpha_x[40]  -0.38  3.9e-3   0.16  -0.69  -0.49  -0.38  -0.28  -0.05   1641    1.0\n",
       "alpha_x[41]  -0.74  3.4e-3   0.15  -1.02  -0.84  -0.74  -0.65  -0.45   1859    1.0\n",
       "alpha_x[42]-6.2e-3    0.01   0.54  -0.91  -0.39  -0.05   0.36   1.13   1602    1.0\n",
       "alpha_x[43]  -1.75  4.6e-3    0.2  -2.14  -1.88  -1.75  -1.61  -1.36   1967    1.0\n",
       "alpha_x[44]  -2.01  5.1e-3   0.18  -2.37  -2.14  -2.01  -1.89  -1.63   1293    1.0\n",
       "alpha_x[45]  -2.01  5.1e-3   0.18  -2.37  -2.14  -2.01  -1.89  -1.63   1293    1.0\n",
       "alpha_x[46]  -0.38  4.0e-3   0.16  -0.69  -0.49  -0.39  -0.28  -0.05   1639    1.0\n",
       "alpha_x[47]  -0.74  3.4e-3   0.14  -1.02  -0.84  -0.74  -0.65  -0.45   1863    1.0\n",
       "alpha_x[48]  -1.01  4.7e-3   0.15   -1.3  -1.11  -1.01   -0.9  -0.74    973    1.0\n",
       "alpha_x[49]  -1.94  4.7e-3   0.19  -2.33  -2.08  -1.94  -1.81  -1.56   1701    1.0\n",
       "alpha_x[50]  -1.24  3.8e-3   0.16  -1.55  -1.35  -1.25  -1.13   -0.9   1841    1.0\n",
       "alpha_x[51]  -0.38  4.0e-3   0.16  -0.69  -0.49  -0.39  -0.28  -0.05   1638    1.0\n",
       "alpha_x[52]  -1.24  3.8e-3   0.16  -1.55  -1.35  -1.25  -1.13   -0.9   1841    1.0\n",
       "alpha_x[53]  -1.01  4.7e-3   0.15   -1.3  -1.11  -1.01  -0.91  -0.74    974    1.0\n",
       "alpha_x[54]  -0.74  3.4e-3   0.14  -1.02  -0.84  -0.74  -0.65  -0.45   1865    1.0\n",
       "alpha_x[55]  -2.01  5.1e-3   0.18  -2.37  -2.14  -2.01  -1.89  -1.64   1295    1.0\n",
       "alpha_x[56]  -2.01  5.1e-3   0.18  -2.37  -2.14  -2.01  -1.89  -1.64   1296    1.0\n",
       "alpha_x[57]  -1.01  4.7e-3   0.15  -1.29  -1.11  -1.01  -0.91  -0.74    974    1.0\n",
       "alpha_x[58]-6.9e-3    0.01   0.54   -0.9  -0.39  -0.05   0.36   1.13   1602    1.0\n",
       "alpha_x[59]  -0.38  4.0e-3   0.16  -0.69   -0.5  -0.38  -0.28  -0.06   1637    1.0\n",
       "alpha_x[60]  -0.74  3.3e-3   0.14  -1.02  -0.84  -0.74  -0.65  -0.45   1868    1.0\n",
       "alpha_x[61]  -0.12  4.6e-3   0.18  -0.48  -0.23  -0.12 4.7e-3   0.25   1581    1.0\n",
       "alpha_x[62]  -0.38  4.0e-3   0.16  -0.69   -0.5  -0.39  -0.28  -0.06   1636    1.0\n",
       "alpha_x[63]  -0.74  3.3e-3   0.14  -1.02  -0.84  -0.74  -0.65  -0.45   1869    1.0\n",
       "alpha_x[64]  -1.24  3.8e-3   0.16  -1.55  -1.35  -1.25  -1.13  -0.91   1847    1.0\n",
       "alpha_x[65]  -1.92  8.6e-3   0.29  -2.48   -2.1  -1.91  -1.71  -1.34   1148   1.01\n",
       "alpha_x[66]  -0.74  3.3e-3   0.14  -1.02  -0.84  -0.74  -0.65  -0.45   1870    1.0\n",
       "alpha_x[67]  -0.38  4.0e-3   0.16  -0.69   -0.5  -0.39  -0.28  -0.06   1635    1.0\n",
       "alpha_x[68]  -1.75  4.6e-3    0.2  -2.13  -1.88  -1.75  -1.61  -1.37   1976    1.0\n",
       "alpha_x[69]  -1.01  4.7e-3   0.15  -1.29  -1.11  -1.01  -0.91  -0.74    975    1.0\n",
       "alpha_x[70]  -0.38  4.0e-3   0.16  -0.69   -0.5  -0.39  -0.28  -0.06   1635    1.0\n",
       "alpha_x[71]  -0.38  4.0e-3   0.16  -0.69   -0.5  -0.39  -0.28  -0.06   1635    1.0\n",
       "alpha_x[72]  -1.01  4.7e-3   0.15  -1.29  -1.11  -1.01  -0.91  -0.74    975    1.0\n",
       "alpha_x[73]  -2.01  5.1e-3   0.18  -2.37  -2.14  -2.01   -1.9  -1.64   1300    1.0\n",
       "alpha_x[74]  -1.01  4.7e-3   0.15  -1.29  -1.11  -1.01  -0.91  -0.74    975    1.0\n",
       "alpha_x[75]  -0.38  4.0e-3   0.16  -0.69   -0.5  -0.39  -0.28  -0.06   1634    1.0\n",
       "alpha_x[76]  -1.95  4.7e-3   0.19  -2.33  -2.08  -1.94  -1.81  -1.57   1709    1.0\n",
       "alpha_x[77]  -1.01  4.7e-3   0.15  -1.29  -1.11  -1.01  -0.91  -0.74    976    1.0\n",
       "alpha_x[78]  -1.51  6.4e-3    0.2  -1.87  -1.65  -1.51  -1.37  -1.12    960    1.0\n",
       "alpha_x[79]  -0.75  3.3e-3   0.14  -1.02  -0.84  -0.74  -0.65  -0.45   1875    1.0\n",
       "alpha_x[80]  -0.75  3.3e-3   0.14  -1.02  -0.84  -0.74  -0.65  -0.45   1875    1.0\n",
       "alpha_x[81]  -1.24  3.8e-3   0.16  -1.55  -1.35  -1.25  -1.13  -0.91   1854    1.0\n",
       "alpha_x[82]  -1.24  3.8e-3   0.16  -1.55  -1.35  -1.25  -1.13  -0.91   1854    1.0\n",
       "alpha_x[83]  -2.01  5.1e-3   0.18  -2.37  -2.14  -2.01   -1.9  -1.64   1304    1.0\n",
       "alpha_x[84]  -1.92  8.6e-3   0.29  -2.48   -2.1  -1.91  -1.72  -1.34   1151   1.01\n",
       "alpha_x[85]  -0.75  3.3e-3   0.14  -1.02  -0.85  -0.74  -0.65  -0.45   1877    1.0\n",
       "alpha_x[86]  -0.12  4.6e-3   0.18  -0.49  -0.23  -0.12 3.1e-3   0.25   1572    1.0\n",
       "alpha_x[87]  -1.24  3.8e-3   0.16  -1.55  -1.35  -1.25  -1.13  -0.91   1856    1.0\n",
       "alpha_x[88]  -0.75  3.3e-3   0.14  -1.02  -0.85  -0.74  -0.65  -0.45   1878    1.0\n",
       "lp__        154.21    0.09   2.42  148.4  152.8  154.6 155.94 158.03    723    1.0\n",
       "\n",
       "Samples were drawn using NUTS at Sun Feb 17 20:11:50 2019.\n",
       "For each parameter, n_eff is a crude measure of effective sample size,\n",
       "and Rhat is the potential scale reduction factor on split chains (at \n",
       "convergence, Rhat=1)."
      ]
     },
     "execution_count": 70,
     "metadata": {},
     "output_type": "execute_result"
    }
   ],
   "source": [
    "fit"
   ]
  },
  {
   "cell_type": "code",
   "execution_count": 71,
   "metadata": {},
   "outputs": [],
   "source": [
    "# サンプル列を抽出\n",
    "la  = fit.extract(permuted=True)"
   ]
  },
  {
   "cell_type": "code",
   "execution_count": 72,
   "metadata": {},
   "outputs": [
    {
     "data": {
      "image/png": "[encoded data removed]",
      "text/plain": [
       "<Figure size 864x576 with 1 Axes>"
      ]
     },
     "metadata": {
      "needs_background": "light"
     },
     "output_type": "display_data"
    }
   ],
   "source": [
    "#ゲームプレイ有無への寄与度\n",
    "plt.figure(figsize=(12,8))\n",
    "plt.violinplot([la[\"b1\"][:,i] for i in range(10)])\n",
    "plt.xticks(list(range(1,len(X.columns)+1)), X.columns)\n",
    "plt.xticks(rotation=45)\n",
    "plt.tick_params(labelsize=18)\n",
    "plt.show()"
   ]
  },
  {
   "cell_type": "code",
   "execution_count": 74,
   "metadata": {},
   "outputs": [],
   "source": [
    "#numpyのパラメータに対応させる\n",
    "mu = la[\"alpha\"].mean()\n",
    "phi = la[\"beta\"].mean()\n",
    "p = phi / (mu + phi)"
   ]
  },
  {
   "cell_type": "code",
   "execution_count": 75,
   "metadata": {},
   "outputs": [
    {
     "name": "stdout",
     "output_type": "stream",
     "text": [
      "0.3432733184828474\n",
      "0.03489234662224619\n"
     ]
    }
   ],
   "source": [
    "print(mu)\n",
    "print(phi)"
   ]
  },
  {
   "cell_type": "code",
   "execution_count": 76,
   "metadata": {},
   "outputs": [
    {
     "data": {
      "text/plain": [
       "0.09226735751525585"
      ]
     },
     "execution_count": 76,
     "metadata": {},
     "output_type": "execute_result"
    }
   ],
   "source": [
    "p"
   ]
  },
  {
   "cell_type": "code",
   "execution_count": 77,
   "metadata": {},
   "outputs": [
    {
     "data": {
      "image/png": "[encoded data removed]",
      "text/plain": [
       "<Figure size 864x288 with 2 Axes>"
      ]
     },
     "metadata": {
      "needs_background": "light"
     },
     "output_type": "display_data"
    }
   ],
   "source": [
    "#推定したパラメータからサンプリングしたヒストグラム\n",
    "plt.figure(figsize=(12,4))\n",
    "plt.subplot(1, 2, 1)\n",
    "plt.ylim(0, 10000)\n",
    "plt.hist(np.random.negative_binomial(phi,p, size=10000),bins=20)\n",
    "#元のヒストグラム\n",
    "plt.subplot(1, 2, 2)\n",
    "plt.ylim(0, 10000)\n",
    "plt.hist(df[\"gamesecond\"],bins=20)\n",
    "plt.show()"
   ]
  },
  {
   "cell_type": "code",
   "execution_count": 78,
   "metadata": {},
   "outputs": [
    {
     "data": {
      "image/png": "[encoded data removed]",
      "text/plain": [
       "<Figure size 864x288 with 2 Axes>"
      ]
     },
     "metadata": {
      "needs_background": "light"
     },
     "output_type": "display_data"
    }
   ],
   "source": [
    "#推定したパラメータからサンプリングしたヒストグラム(1以上)\n",
    "plt.figure(figsize=(12,4))\n",
    "plt.subplot(1, 2, 1)\n",
    "plt.ylim(0, 550)\n",
    "plt.hist(np.random.negative_binomial(phi,p, size=10000),bins=20,range=(1,50))\n",
    "#元のヒストグラム\n",
    "plt.subplot(1, 2, 2)\n",
    "plt.ylim(0, 550)\n",
    "plt.hist(df[\"gamesecond\"],bins=20,range=(1,50))\n",
    "plt.show()"
   ]
  }
 ],
 "metadata": {
  "kernelspec": {
   "display_name": "Python 3",
   "language": "python",
   "name": "python3"
  },
  "language_info": {
   "codemirror_mode": {
    "name": "ipython",
    "version": 3
   },
   "file_extension": ".py",
   "mimetype": "text/x-python",
   "name": "python",
   "nbconvert_exporter": "python",
   "pygments_lexer": "ipython3",
   "version": "3.6.7"
  }
 },
 "nbformat": 4,
 "nbformat_minor": 2
}
